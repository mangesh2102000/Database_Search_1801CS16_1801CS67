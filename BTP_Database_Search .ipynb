{
  "nbformat": 4,
  "nbformat_minor": 0,
  "metadata": {
    "colab": {
      "name": "BTP_Database_Search.ipynb",
      "provenance": [],
      "collapsed_sections": []
    },
    "kernelspec": {
      "display_name": "Python 3",
      "name": "python3"
    },
    "language_info": {
      "name": "python"
    }
  },
  "cells": [
    {
      "cell_type": "code",
      "metadata": {
        "colab": {
          "base_uri": "https://localhost:8080/"
        },
        "id": "BOZErWC8Hxt9",
        "outputId": "3815961d-e90d-4ab9-8fe5-4c31c42b2789"
      },
      "source": [
        "!pip install cryptography"
      ],
      "execution_count": 63,
      "outputs": [
        {
          "output_type": "stream",
          "name": "stdout",
          "text": [
            "Requirement already satisfied: cryptography in /usr/local/lib/python3.7/dist-packages (37.0.1)\n",
            "Requirement already satisfied: cffi>=1.12 in /usr/local/lib/python3.7/dist-packages (from cryptography) (1.15.0)\n",
            "Requirement already satisfied: pycparser in /usr/local/lib/python3.7/dist-packages (from cffi>=1.12->cryptography) (2.21)\n"
          ]
        }
      ]
    },
    {
      "cell_type": "markdown",
      "metadata": {
        "id": "menUSn4Nhr_A"
      },
      "source": [
        "# **Utlity Functions**"
      ]
    },
    {
      "cell_type": "code",
      "metadata": {
        "id": "z6ztHHPeXnvU"
      },
      "source": [
        "# Convert to string in ascii from numeric representation of triplets\n",
        "def convert(a) :\n",
        "    l = len(a)\n",
        "    s = \"\"\n",
        "    \n",
        "    idx = 0\n",
        "    while idx < l :\n",
        "        temp = a[idx:idx+3]\n",
        "        s = s + chr(int(temp))\n",
        "        idx = idx + 3\n",
        "        \n",
        "    return s\n",
        "\n",
        "# Creating a random salt of length n\n",
        "import string\n",
        "import random\n",
        "\n",
        "def get_random_salt(n) :\n",
        "  \n",
        "    salt=\"\"\n",
        "    for i in range(n):\n",
        "        salt=salt+random.choice(string.ascii_letters)\n",
        "\n",
        "    return salt\n",
        "\n",
        "# Get a random encryption key\n",
        "from cryptography.fernet import Fernet\n",
        "\n",
        "def get_random_encryptkey() :\n",
        "\n",
        "    encrypt_key = Fernet.generate_key()\n",
        "    # fernet = Fernet(key)\n",
        "    return encrypt_key\n"
      ],
      "execution_count": 64,
      "outputs": []
    },
    {
      "cell_type": "code",
      "metadata": {
        "id": "lUy8zcJ1GLSK"
      },
      "source": [
        "# Take XOR of string a and string b\n",
        "def XOR1(a, b) :\n",
        "    res = \"\"\n",
        "    i = 0\n",
        "    j = 0\n",
        "    \n",
        "    while (i<len(a) and j<len(b)) :\n",
        "        \n",
        "        temp = str(ord(a[i]) ^ ord(b[j])) \n",
        "        \n",
        "        if len(temp) == 1 :\n",
        "            temp = \"00\" + temp\n",
        "        elif len(temp) == 2 :\n",
        "            temp = \"0\" + temp\n",
        "        \n",
        "        res += temp\n",
        "        i = i + 1\n",
        "        j = j + 1\n",
        "    \n",
        "    while i<len(a) :\n",
        "        \n",
        "        temp = str(ord(a[i])) \n",
        "        \n",
        "        if len(temp) == 1 :\n",
        "            temp = \"00\" + temp\n",
        "        elif len(temp) == 2 :\n",
        "            temp = \"0\" + temp\n",
        "        \n",
        "        res += temp\n",
        "        i = i + 1\n",
        "        \n",
        "    while j<len(b) :\n",
        "        \n",
        "        temp = str(ord(b[j])) \n",
        "        \n",
        "        if len(temp) == 1 :\n",
        "            temp = \"00\" + temp\n",
        "        elif len(temp) == 2 :\n",
        "            temp = \"0\" + temp\n",
        "        \n",
        "        res += temp\n",
        "        j = j + 1\n",
        "        \n",
        "    return res      \n"
      ],
      "execution_count": 65,
      "outputs": []
    },
    {
      "cell_type": "markdown",
      "metadata": {
        "id": "BZ5ffn8Wh_2L"
      },
      "source": [
        "# **Connecting with MySQL**"
      ]
    },
    {
      "cell_type": "code",
      "metadata": {
        "colab": {
          "base_uri": "https://localhost:8080/"
        },
        "id": "2mFJO2IDbudQ",
        "outputId": "40526deb-fc17-41f0-c050-6c133daf3dd0"
      },
      "source": [
        "pip install mysql-connector-python-rf"
      ],
      "execution_count": 66,
      "outputs": [
        {
          "output_type": "stream",
          "name": "stdout",
          "text": [
            "Requirement already satisfied: mysql-connector-python-rf in /usr/local/lib/python3.7/dist-packages (2.2.2)\n"
          ]
        }
      ]
    },
    {
      "cell_type": "code",
      "metadata": {
        "colab": {
          "base_uri": "https://localhost:8080/",
          "height": 278
        },
        "id": "uylVHZtHcuRr",
        "outputId": "afdcdd34-a4f9-4b7b-c6d8-6be306ca2777"
      },
      "source": [
        "# install, set connection\n",
        "!apt-get install mysql-server > /dev/null\n",
        "!service mysql start\n",
        "!mysql -e \"ALTER USER 'root'@'localhost' IDENTIFIED WITH mysql_native_password BY 'root'\"\n",
        "!pip -q install PyMySQL\n",
        "%load_ext sql\n",
        "%config SqlMagic.feedback=False \n",
        "%config SqlMagic.autopandas=True\n",
        "%sql mysql+pymysql://root:root@/\n",
        "# query using %sql or %%sql\n",
        "df = %sql SELECT Host, User, authentication_string FROM mysql.user\n",
        "df"
      ],
      "execution_count": 67,
      "outputs": [
        {
          "output_type": "stream",
          "name": "stdout",
          "text": [
            " * Starting MySQL database server mysqld\n",
            "   ...done.\n",
            "ERROR 1045 (28000): Access denied for user 'root'@'localhost' (using password: NO)\n",
            "The sql extension is already loaded. To reload it, use:\n",
            "  %reload_ext sql\n",
            " * mysql+pymysql://root:***@/\n"
          ]
        },
        {
          "output_type": "execute_result",
          "data": {
            "text/plain": [
              "        Host              User                      authentication_string\n",
              "0  localhost              root  *81F5E21E35407D884A6CD4A731AEBFB6AF209E1B\n",
              "1  localhost     mysql.session  *THISISNOTAVALIDPASSWORDTHATCANBEUSEDHERE\n",
              "2  localhost         mysql.sys  *THISISNOTAVALIDPASSWORDTHATCANBEUSEDHERE\n",
              "3  localhost  debian-sys-maint  *53E101956E13ED24AC7FD125DEBDFF39E932C594"
            ],
            "text/html": [
              "\n",
              "  <div id=\"df-8e62950a-94de-4709-8c9a-fc5422a082ad\">\n",
              "    <div class=\"colab-df-container\">\n",
              "      <div>\n",
              "<style scoped>\n",
              "    .dataframe tbody tr th:only-of-type {\n",
              "        vertical-align: middle;\n",
              "    }\n",
              "\n",
              "    .dataframe tbody tr th {\n",
              "        vertical-align: top;\n",
              "    }\n",
              "\n",
              "    .dataframe thead th {\n",
              "        text-align: right;\n",
              "    }\n",
              "</style>\n",
              "<table border=\"1\" class=\"dataframe\">\n",
              "  <thead>\n",
              "    <tr style=\"text-align: right;\">\n",
              "      <th></th>\n",
              "      <th>Host</th>\n",
              "      <th>User</th>\n",
              "      <th>authentication_string</th>\n",
              "    </tr>\n",
              "  </thead>\n",
              "  <tbody>\n",
              "    <tr>\n",
              "      <th>0</th>\n",
              "      <td>localhost</td>\n",
              "      <td>root</td>\n",
              "      <td>*81F5E21E35407D884A6CD4A731AEBFB6AF209E1B</td>\n",
              "    </tr>\n",
              "    <tr>\n",
              "      <th>1</th>\n",
              "      <td>localhost</td>\n",
              "      <td>mysql.session</td>\n",
              "      <td>*THISISNOTAVALIDPASSWORDTHATCANBEUSEDHERE</td>\n",
              "    </tr>\n",
              "    <tr>\n",
              "      <th>2</th>\n",
              "      <td>localhost</td>\n",
              "      <td>mysql.sys</td>\n",
              "      <td>*THISISNOTAVALIDPASSWORDTHATCANBEUSEDHERE</td>\n",
              "    </tr>\n",
              "    <tr>\n",
              "      <th>3</th>\n",
              "      <td>localhost</td>\n",
              "      <td>debian-sys-maint</td>\n",
              "      <td>*53E101956E13ED24AC7FD125DEBDFF39E932C594</td>\n",
              "    </tr>\n",
              "  </tbody>\n",
              "</table>\n",
              "</div>\n",
              "      <button class=\"colab-df-convert\" onclick=\"convertToInteractive('df-8e62950a-94de-4709-8c9a-fc5422a082ad')\"\n",
              "              title=\"Convert this dataframe to an interactive table.\"\n",
              "              style=\"display:none;\">\n",
              "        \n",
              "  <svg xmlns=\"http://www.w3.org/2000/svg\" height=\"24px\"viewBox=\"0 0 24 24\"\n",
              "       width=\"24px\">\n",
              "    <path d=\"M0 0h24v24H0V0z\" fill=\"none\"/>\n",
              "    <path d=\"M18.56 5.44l.94 2.06.94-2.06 2.06-.94-2.06-.94-.94-2.06-.94 2.06-2.06.94zm-11 1L8.5 8.5l.94-2.06 2.06-.94-2.06-.94L8.5 2.5l-.94 2.06-2.06.94zm10 10l.94 2.06.94-2.06 2.06-.94-2.06-.94-.94-2.06-.94 2.06-2.06.94z\"/><path d=\"M17.41 7.96l-1.37-1.37c-.4-.4-.92-.59-1.43-.59-.52 0-1.04.2-1.43.59L10.3 9.45l-7.72 7.72c-.78.78-.78 2.05 0 2.83L4 21.41c.39.39.9.59 1.41.59.51 0 1.02-.2 1.41-.59l7.78-7.78 2.81-2.81c.8-.78.8-2.07 0-2.86zM5.41 20L4 18.59l7.72-7.72 1.47 1.35L5.41 20z\"/>\n",
              "  </svg>\n",
              "      </button>\n",
              "      \n",
              "  <style>\n",
              "    .colab-df-container {\n",
              "      display:flex;\n",
              "      flex-wrap:wrap;\n",
              "      gap: 12px;\n",
              "    }\n",
              "\n",
              "    .colab-df-convert {\n",
              "      background-color: #E8F0FE;\n",
              "      border: none;\n",
              "      border-radius: 50%;\n",
              "      cursor: pointer;\n",
              "      display: none;\n",
              "      fill: #1967D2;\n",
              "      height: 32px;\n",
              "      padding: 0 0 0 0;\n",
              "      width: 32px;\n",
              "    }\n",
              "\n",
              "    .colab-df-convert:hover {\n",
              "      background-color: #E2EBFA;\n",
              "      box-shadow: 0px 1px 2px rgba(60, 64, 67, 0.3), 0px 1px 3px 1px rgba(60, 64, 67, 0.15);\n",
              "      fill: #174EA6;\n",
              "    }\n",
              "\n",
              "    [theme=dark] .colab-df-convert {\n",
              "      background-color: #3B4455;\n",
              "      fill: #D2E3FC;\n",
              "    }\n",
              "\n",
              "    [theme=dark] .colab-df-convert:hover {\n",
              "      background-color: #434B5C;\n",
              "      box-shadow: 0px 1px 3px 1px rgba(0, 0, 0, 0.15);\n",
              "      filter: drop-shadow(0px 1px 2px rgba(0, 0, 0, 0.3));\n",
              "      fill: #FFFFFF;\n",
              "    }\n",
              "  </style>\n",
              "\n",
              "      <script>\n",
              "        const buttonEl =\n",
              "          document.querySelector('#df-8e62950a-94de-4709-8c9a-fc5422a082ad button.colab-df-convert');\n",
              "        buttonEl.style.display =\n",
              "          google.colab.kernel.accessAllowed ? 'block' : 'none';\n",
              "\n",
              "        async function convertToInteractive(key) {\n",
              "          const element = document.querySelector('#df-8e62950a-94de-4709-8c9a-fc5422a082ad');\n",
              "          const dataTable =\n",
              "            await google.colab.kernel.invokeFunction('convertToInteractive',\n",
              "                                                     [key], {});\n",
              "          if (!dataTable) return;\n",
              "\n",
              "          const docLinkHtml = 'Like what you see? Visit the ' +\n",
              "            '<a target=\"_blank\" href=https://colab.research.google.com/notebooks/data_table.ipynb>data table notebook</a>'\n",
              "            + ' to learn more about interactive tables.';\n",
              "          element.innerHTML = '';\n",
              "          dataTable['output_type'] = 'display_data';\n",
              "          await google.colab.output.renderOutput(dataTable, element);\n",
              "          const docLink = document.createElement('div');\n",
              "          docLink.innerHTML = docLinkHtml;\n",
              "          element.appendChild(docLink);\n",
              "        }\n",
              "      </script>\n",
              "    </div>\n",
              "  </div>\n",
              "  "
            ]
          },
          "metadata": {},
          "execution_count": 67
        }
      ]
    },
    {
      "cell_type": "code",
      "metadata": {
        "colab": {
          "base_uri": "https://localhost:8080/"
        },
        "id": "3YW9emTabBDH",
        "outputId": "bf26438b-6b4f-450e-ae7e-a8cbc06662f8"
      },
      "source": [
        "import mysql.connector\n",
        "\n",
        "mydb = mysql.connector.connect(\n",
        "  host=\"localhost\",\n",
        "  user=\"root\",\n",
        "  password=\"root\"\n",
        ")\n",
        "\n",
        "print(mydb)"
      ],
      "execution_count": 68,
      "outputs": [
        {
          "output_type": "stream",
          "name": "stdout",
          "text": [
            "<mysql.connector.connection.MySQLConnection object at 0x7f1e97d2c1d0>\n"
          ]
        }
      ]
    },
    {
      "cell_type": "markdown",
      "metadata": {
        "id": "7DnN3PX-iFw_"
      },
      "source": [
        "# **Part 1 : Store Data in Database**"
      ]
    },
    {
      "cell_type": "code",
      "metadata": {
        "id": "jNs3DRSXqf8f"
      },
      "source": [
        "mycursor = mydb.cursor()"
      ],
      "execution_count": 69,
      "outputs": []
    },
    {
      "cell_type": "code",
      "metadata": {
        "id": "V2bMlyQAV-er",
        "colab": {
          "base_uri": "https://localhost:8080/",
          "height": 311
        },
        "outputId": "b12cb4ee-fcf5-4c7a-d9de-af97644e5b5c"
      },
      "source": [
        "mycursor.execute(\"DROP DATABASE btp\")"
      ],
      "execution_count": 70,
      "outputs": [
        {
          "output_type": "error",
          "ename": "DatabaseError",
          "evalue": "ignored",
          "traceback": [
            "\u001b[0;31m---------------------------------------------------------------------------\u001b[0m",
            "\u001b[0;31mDatabaseError\u001b[0m                             Traceback (most recent call last)",
            "\u001b[0;32m<ipython-input-70-35098e67d6a1>\u001b[0m in \u001b[0;36m<module>\u001b[0;34m()\u001b[0m\n\u001b[0;32m----> 1\u001b[0;31m \u001b[0mmycursor\u001b[0m\u001b[0;34m.\u001b[0m\u001b[0mexecute\u001b[0m\u001b[0;34m(\u001b[0m\u001b[0;34m\"DROP DATABASE btp\"\u001b[0m\u001b[0;34m)\u001b[0m\u001b[0;34m\u001b[0m\u001b[0;34m\u001b[0m\u001b[0m\n\u001b[0m",
            "\u001b[0;32m/usr/local/lib/python3.7/dist-packages/mysql/connector/cursor.py\u001b[0m in \u001b[0;36mexecute\u001b[0;34m(self, operation, params, multi)\u001b[0m\n\u001b[1;32m    549\u001b[0m         \u001b[0;32melse\u001b[0m\u001b[0;34m:\u001b[0m\u001b[0;34m\u001b[0m\u001b[0;34m\u001b[0m\u001b[0m\n\u001b[1;32m    550\u001b[0m             \u001b[0;32mtry\u001b[0m\u001b[0;34m:\u001b[0m\u001b[0;34m\u001b[0m\u001b[0;34m\u001b[0m\u001b[0m\n\u001b[0;32m--> 551\u001b[0;31m                 \u001b[0mself\u001b[0m\u001b[0;34m.\u001b[0m\u001b[0m_handle_result\u001b[0m\u001b[0;34m(\u001b[0m\u001b[0mself\u001b[0m\u001b[0;34m.\u001b[0m\u001b[0m_connection\u001b[0m\u001b[0;34m.\u001b[0m\u001b[0mcmd_query\u001b[0m\u001b[0;34m(\u001b[0m\u001b[0mstmt\u001b[0m\u001b[0;34m)\u001b[0m\u001b[0;34m)\u001b[0m\u001b[0;34m\u001b[0m\u001b[0;34m\u001b[0m\u001b[0m\n\u001b[0m\u001b[1;32m    552\u001b[0m             \u001b[0;32mexcept\u001b[0m \u001b[0merrors\u001b[0m\u001b[0;34m.\u001b[0m\u001b[0mInterfaceError\u001b[0m\u001b[0;34m:\u001b[0m\u001b[0;34m\u001b[0m\u001b[0;34m\u001b[0m\u001b[0m\n\u001b[1;32m    553\u001b[0m                 \u001b[0;32mif\u001b[0m \u001b[0mself\u001b[0m\u001b[0;34m.\u001b[0m\u001b[0m_connection\u001b[0m\u001b[0;34m.\u001b[0m\u001b[0m_have_next_result\u001b[0m\u001b[0;34m:\u001b[0m  \u001b[0;31m# pylint: disable=W0212\u001b[0m\u001b[0;34m\u001b[0m\u001b[0;34m\u001b[0m\u001b[0m\n",
            "\u001b[0;32m/usr/local/lib/python3.7/dist-packages/mysql/connector/connection.py\u001b[0m in \u001b[0;36mcmd_query\u001b[0;34m(self, query, raw, buffered, raw_as_string)\u001b[0m\n\u001b[1;32m    488\u001b[0m         \u001b[0;32mif\u001b[0m \u001b[0;32mnot\u001b[0m \u001b[0misinstance\u001b[0m\u001b[0;34m(\u001b[0m\u001b[0mquery\u001b[0m\u001b[0;34m,\u001b[0m \u001b[0mbytes\u001b[0m\u001b[0;34m)\u001b[0m\u001b[0;34m:\u001b[0m\u001b[0;34m\u001b[0m\u001b[0;34m\u001b[0m\u001b[0m\n\u001b[1;32m    489\u001b[0m             \u001b[0mquery\u001b[0m \u001b[0;34m=\u001b[0m \u001b[0mquery\u001b[0m\u001b[0;34m.\u001b[0m\u001b[0mencode\u001b[0m\u001b[0;34m(\u001b[0m\u001b[0;34m'utf-8'\u001b[0m\u001b[0;34m)\u001b[0m\u001b[0;34m\u001b[0m\u001b[0;34m\u001b[0m\u001b[0m\n\u001b[0;32m--> 490\u001b[0;31m         \u001b[0mresult\u001b[0m \u001b[0;34m=\u001b[0m \u001b[0mself\u001b[0m\u001b[0;34m.\u001b[0m\u001b[0m_handle_result\u001b[0m\u001b[0;34m(\u001b[0m\u001b[0mself\u001b[0m\u001b[0;34m.\u001b[0m\u001b[0m_send_cmd\u001b[0m\u001b[0;34m(\u001b[0m\u001b[0mServerCmd\u001b[0m\u001b[0;34m.\u001b[0m\u001b[0mQUERY\u001b[0m\u001b[0;34m,\u001b[0m \u001b[0mquery\u001b[0m\u001b[0;34m)\u001b[0m\u001b[0;34m)\u001b[0m\u001b[0;34m\u001b[0m\u001b[0;34m\u001b[0m\u001b[0m\n\u001b[0m\u001b[1;32m    491\u001b[0m \u001b[0;34m\u001b[0m\u001b[0m\n\u001b[1;32m    492\u001b[0m         \u001b[0;32mif\u001b[0m \u001b[0mself\u001b[0m\u001b[0;34m.\u001b[0m\u001b[0m_have_next_result\u001b[0m\u001b[0;34m:\u001b[0m\u001b[0;34m\u001b[0m\u001b[0;34m\u001b[0m\u001b[0m\n",
            "\u001b[0;32m/usr/local/lib/python3.7/dist-packages/mysql/connector/connection.py\u001b[0m in \u001b[0;36m_handle_result\u001b[0;34m(self, packet)\u001b[0m\n\u001b[1;32m    393\u001b[0m             \u001b[0;32mreturn\u001b[0m \u001b[0mself\u001b[0m\u001b[0;34m.\u001b[0m\u001b[0m_handle_eof\u001b[0m\u001b[0;34m(\u001b[0m\u001b[0mpacket\u001b[0m\u001b[0;34m)\u001b[0m\u001b[0;34m\u001b[0m\u001b[0;34m\u001b[0m\u001b[0m\n\u001b[1;32m    394\u001b[0m         \u001b[0;32melif\u001b[0m \u001b[0mpacket\u001b[0m\u001b[0;34m[\u001b[0m\u001b[0;36m4\u001b[0m\u001b[0;34m]\u001b[0m \u001b[0;34m==\u001b[0m \u001b[0;36m255\u001b[0m\u001b[0;34m:\u001b[0m\u001b[0;34m\u001b[0m\u001b[0;34m\u001b[0m\u001b[0m\n\u001b[0;32m--> 395\u001b[0;31m             \u001b[0;32mraise\u001b[0m \u001b[0merrors\u001b[0m\u001b[0;34m.\u001b[0m\u001b[0mget_exception\u001b[0m\u001b[0;34m(\u001b[0m\u001b[0mpacket\u001b[0m\u001b[0;34m)\u001b[0m\u001b[0;34m\u001b[0m\u001b[0;34m\u001b[0m\u001b[0m\n\u001b[0m\u001b[1;32m    396\u001b[0m \u001b[0;34m\u001b[0m\u001b[0m\n\u001b[1;32m    397\u001b[0m         \u001b[0;31m# We have a text result set\u001b[0m\u001b[0;34m\u001b[0m\u001b[0;34m\u001b[0m\u001b[0;34m\u001b[0m\u001b[0m\n",
            "\u001b[0;31mDatabaseError\u001b[0m: 1008 (HY000): Can't drop database 'btp'; database doesn't exist"
          ]
        }
      ]
    },
    {
      "cell_type": "code",
      "metadata": {
        "id": "TF8X3Y0lU4A4"
      },
      "source": [
        "mycursor.execute(\"CREATE DATABASE btp\")"
      ],
      "execution_count": 71,
      "outputs": []
    },
    {
      "cell_type": "code",
      "metadata": {
        "colab": {
          "base_uri": "https://localhost:8080/"
        },
        "id": "Ah5OQYavxJQ6",
        "outputId": "69a53def-206b-4497-c075-0bf8f7d214e8"
      },
      "source": [
        "mycursor.execute(\"SHOW DATABASES\")\n",
        "for x in mycursor:\n",
        "  print(x)"
      ],
      "execution_count": 72,
      "outputs": [
        {
          "output_type": "stream",
          "name": "stdout",
          "text": [
            "('information_schema',)\n",
            "('btp',)\n",
            "('mysql',)\n",
            "('performance_schema',)\n",
            "('sys',)\n"
          ]
        }
      ]
    },
    {
      "cell_type": "code",
      "metadata": {
        "id": "0X33L5YwyYxN"
      },
      "source": [
        "import mysql.connector\n",
        "\n",
        "mydb = mysql.connector.connect(\n",
        "  host=\"localhost\",\n",
        "  user=\"root\",\n",
        "  password=\"root\",\n",
        "  database='btp'\n",
        ")\n",
        "\n",
        "mycursor = mydb.cursor()"
      ],
      "execution_count": 73,
      "outputs": []
    },
    {
      "cell_type": "code",
      "metadata": {
        "id": "M0eEwRQi0BPx"
      },
      "source": [
        "table_name = \"customers\"\n",
        "columns = ['id', 'name', 'city', 'wallet_balance']\n",
        "data = [ ('1', 'Mangesh', 'Umarkhed', '100'),\n",
        "        ('2', 'Puspesh', 'Patna', '200'),\n",
        "        ('3', 'Ritwiz', 'Delhi', '150'),\n",
        "        ('4', 'Pranay', 'Delhi', '190'),\n",
        "        ('5', 'Harsh', 'Agra', '120') ]"
      ],
      "execution_count": 74,
      "outputs": []
    },
    {
      "cell_type": "code",
      "metadata": {
        "id": "WmNtVftCxlUy"
      },
      "source": [
        "def store_data(table_name, columns, data) :\n",
        "\n",
        "    # create table query, first column shoud be id/primary key\n",
        "    create_query = \"CREATE TABLE \" + table_name + \" (\" + columns[0] + \" VARCHAR(511) PRIMARY KEY\"\n",
        "\n",
        "    for idx in range(1,len(columns)):\n",
        "        create_query += \", \" + columns[idx] + \" VARCHAR(511)\"\n",
        "    \n",
        "    create_query += \")\"\n",
        "\n",
        "    mycursor.execute(create_query)\n",
        "\n",
        "    # insert data query \n",
        "    insert_query = \"INSERT INTO \" + table_name + \" (\" + columns[0]\n",
        "\n",
        "    for idx in range(1,len(columns)):\n",
        "        insert_query += \", \" + columns[idx]\n",
        "    \n",
        "    insert_query += \") VALUES (\" + \"%s\"\n",
        "\n",
        "    for idx in range(1,len(columns)):\n",
        "        insert_query += \", %s\"\n",
        "\n",
        "    insert_query += \")\"\n",
        "\n",
        "    id_and_salts = []\n",
        "    encrypt_key = get_random_encryptkey();\n",
        "    fernet = Fernet(encrypt_key)\n",
        "    encrypted_data = []\n",
        "    \n",
        "    for idx in range(len(data)):\n",
        "        encrypted_data.append(list(data[idx]))\n",
        "\n",
        "    for row in range(len(data)) :\n",
        "      \n",
        "        encrypted_id = fernet.encrypt(data[row][0].encode('utf-8'))\n",
        "        salt = get_random_salt(len(encrypted_id))\n",
        "        encrypted_salt = fernet.encrypt(salt.encode('utf-8'))\n",
        "        \n",
        "        id_and_salts.append(encrypted_id)\n",
        "        id_and_salts.append(encrypted_salt)\n",
        "\n",
        "        encrypted_data[row][0] = XOR1(str(encrypted_id),salt)\n",
        "\n",
        "        for col in range(1,len(data[0])) :\n",
        "\n",
        "            encrypted_data[row][col] = XOR1(str(fernet.encrypt(data[row][col].encode('utf-8'))), salt)\n",
        "                \n",
        "    mycursor.executemany(insert_query, encrypted_data)\n",
        "    mydb.commit()\n",
        "\n",
        "    print(\"Encryption Key :\", encrypt_key)\n",
        "\n",
        "    idx = 0\n",
        "    print(\"Encrypted Primary Key and Salt :\")\n",
        "    while idx < len(id_and_salts) :\n",
        "        if idx == 0:\n",
        "            print(str(id_and_salts[idx]) + \",\" + str(id_and_salts[idx+1]))\n",
        "        else :\n",
        "            print(\",\" + str(id_and_salts[idx]) + \",\" + str(id_and_salts[idx+1]))\n",
        "        idx = idx + 2\n"
      ],
      "execution_count": 75,
      "outputs": []
    },
    {
      "cell_type": "code",
      "metadata": {
        "id": "qgY4KKWBANtS",
        "colab": {
          "base_uri": "https://localhost:8080/"
        },
        "outputId": "16f5d2c0-02cf-446f-8431-77592c5f55fe"
      },
      "source": [
        "store_data(table_name, columns, data)"
      ],
      "execution_count": 76,
      "outputs": [
        {
          "output_type": "stream",
          "name": "stdout",
          "text": [
            "Encryption Key : b'yER6V-sJWXVFfkAi6aPDKogoE_qep31ovb8dgL9YD0M='\n",
            "Encrypted Primary Key and Salt :\n",
            "b'gAAAAABicXsxBivZxGZ5VbhFdCQHqDnSHt5ICFOkHSAGxZ1LpCrZ8z5URTSIFRKc6kxcoJk_ndvNmTOtp-hlgsl-8PV_d3U4Ww==',b'gAAAAABicXsxkL-jjmDh4wAmfXlhFMZmVE2XtBemb5ui9s17vvqZP9sH_AhTdnR4oCBAjVX2A2X-l7WPbW6lRmWYYnjXvG90n0Xg-sx9TYtEVzSIj_QX-2zta-0LKWR-t1JjBZ4vRIITKHbVsHnIa-ZZV_pBU8plXv3Dz9dhROzMZcYOOxVGho_zXz7exl9JWBEJPcwD6Rhngdt6Z89BLwclYyk4uf3N5A=='\n",
            ",b'gAAAAABicXsxOxz2aq-tzymgLU4sasM2sox7KrAu8kOcN9ZDr7_hthXSX8r_ddI1gpN7d0sU7EwoKd6PdkVwto3TH61yfIxFUQ==',b'gAAAAABicXsxfKpLPhXQQPTRwNaj5iGtyB7Xahv_32Wc971TydpB_-5EsDFGyCrfRrLuA3MseEmJtHFTeNqBUmaJy5LcpzddIBT_MVB_1Nqx7kdE43Y170eQWh2yuzLSvy4r4fafz-dvui4XxN6Ttb_qX1h2rpb0udTf4kggVlnaGLAujDim7KmuHWAYb7QN2uyTCfBWKwtzYIS3xVPi1jchoQFRDLSqBw=='\n",
            ",b'gAAAAABicXsxkeRW5hWiQp77_M0aT3r0j9Rwks4dDPJoQZ_-_ZVe-qvGnlfE26gnDBlcWHLSrX0e9BEjQX-bPF0OoZzJV_N6sQ==',b'gAAAAABicXsxeIZcYBBJWFMI82ATTsbdMq96Rc36QIlFHbjiRVr0xzZNOnjbOmlRbl2YilZwKTvjM6zKftIqTH-52WzKFaMAH_Id_1K77NSCBtPpNYc2gDVq-T5Mn9xqqaSWMyV0EK2-DwyRsZMqhMcAuBea3_vpsgU81keay2mqg_yE5yaaHi4gRZOnR9cf5EnV-eFxSUBhuR9lv-ZCJLXBHfchUhX_1A=='\n",
            ",b'gAAAAABicXsx_Qg8UZu5CyTCCILh2oV26XJ2wlu0bVg4kpNpUisQHe8VimPf_M9wTwBC7Gvm5_9m2s0ekt1P6otMGeBbfsjItg==',b'gAAAAABicXsx7N6WhDeTLmAUD2NpodBhq7NnXjINf02uL_MsRcwAYg2lO24YPzirJQjaLjE9xbzE1J_i_E_C8Ly4gMs7w2Rx-KW2fGcNqX_Cn1AhieiqQgx4bYN4VzUBf3Ixz3GeO0m5gocthIPM3tWXN3QeZiGx59gHmeNlfH4Ijzz1f51aLh-RMCT7WFW5qoM5r9-d1SOyQ7i3en8T3okn07cxUMoe9g=='\n",
            ",b'gAAAAABicXsxrUThWtRKdrlPfsoiFHhQDYIoSeHFqtxO2jRcqNRi9n2lbIHp1GFbaJatZv_m0qLzrOmyn7IGQBUxgclz6DqTkw==',b'gAAAAABicXsx9be10uP1KQq2InqaTBwI-kVHMo0mhn91jcqz8OkMYtsJxfMp8VUAYaHnQD5bc6KKUgyAVvgq3x7rIP-1-XsaH2sE-qPhF53ZnFIOlOwVxUSLEE1XOLBc8QukUBqqejNTTBQj5xs5KnSz13O5XZZF51x7YMf3k2PG1YmfSnbXIZc-jnroKddYXz0HplQ7dBuUnfct2FPMEOdMntKQJ43vIg=='\n"
          ]
        }
      ]
    },
    {
      "cell_type": "code",
      "metadata": {
        "id": "DWG7sjdaWRfU"
      },
      "source": [
        "mycursor.execute(\"SHOW TABLES\")\n",
        "for x in mycursor:\n",
        "  print(x)"
      ],
      "execution_count": null,
      "outputs": []
    },
    {
      "cell_type": "code",
      "metadata": {
        "colab": {
          "base_uri": "https://localhost:8080/"
        },
        "id": "EU_9adQIW2lj",
        "outputId": "476e6044-c0cf-4b68-8ce1-84a37c04e2c8"
      },
      "source": [
        "mycursor.execute(\"SELECT * from customers\")\n",
        "for x in mycursor:\n",
        "  print(x)"
      ],
      "execution_count": null,
      "outputs": [
        {
          "output_type": "stream",
          "name": "stdout",
          "text": [
            "('026082003042037035019059020048041037004017051028091069015045036107014091045027049025002060037063023010059030044047063120006023052028048008037042056037042007103008041105021011067081002051041027047043030044066019094049019023059116019034063039002060113055048053031047020021054001007048037062059020029062061061039', '026082003042037035019059020048041037004017059092095003029080001003014012000036054014121014029027103003043062022013087002121022028029003005023047052058042034035029035006021054029001016060025064012021013027032080062052027065033054001029071039006032001061114035037000050056017111056012018072002070001024061061039', '026082003042037035019059020048041037004017005006087077004015033040012000060033045037044024020044051035067000020040082039126029018028046044058034066014034009005005008003052010001051041046046019021041043048036020005014010025037029020010061017025036006046039027022012058031039055064060036058017036059024061061039', '026082003042037035019059020048041037004017088054063057061017066042118057067004065013039046039013032053013061121026035006034011077026040020003051019032053044003059053040008051000042002043115050060044033026007095008037000025039001029001077052064010042021001043017052067028092028060104057059010059044024061061039')\n",
            "('035113030038018014057052046059040005036046036046014055016059091049007059090049122124006026018004037051043005052011005017025026024001042024030034033016023037011010032007066051063120117047032015004055033039116043050113116029021063061023000116053038009053043076006039060031004122039026037033117125056052061061039', '035113030038018014057052046059040005036046014077021047012112021030035008095055020122010001045057016034005041029007033006122007046000062051079028056060003054038007008055068067017047036060003033038126060060113050048117039059003015005013002008039029047068063027046058074015013014022038079015048026018052061061039', '035113030038018014057052046059040005036046006002031021019122062067023043037045056125057008009018080112087060012050062053028019060096056000009062089060028003100000034019037037006008043042006050117103058026114051059022011002031005040030003116060053045051012048037020008002122007103035051003050042056002061061039', '035113030038018014057052046059040005036046056060029041040030057062007051039119039018004004057071050051038062062111003070125025009106123025032039056012044004002059020055034031061007063009053050033028126113007027053117009094036030040019002041057060016002065020065121017039043044026054048035023041056002061061039')\n",
            "('049064008051020051000035037039014022017056095028075018062004000063012045043071060017056041054061037038108037044036016009056035126045100074108033059049042000045123020002012001000061010037063036038043023015028024020018040040042123027086013002005055025060057033019039000035047001049018041096036049007029061061039', '049064008051020051000035037039014022017056037009055030030032032047087027072055015057124038061045070043108009053115048015030033005038035041018106006002019056082052001060051053001054032067004036059036029110042023023126107009051027102049076058122004059099030040084001040011005050037049035102059093019059061061039', '049064008051020051000035037039014022017056008106018005009052029016010039032017030004012061030008090062009061044007027035037035038006050003007033022010061050083049020028001038007054018000115076038023012116004054039013026008057000044019018004112063061037034115048041045036099029018043028003023030036029061061039', '049064008051020051000035037039014022017056088026048029037063004054045014045044026048059035017010038000044097056018044010057014127027038001013017047006035031040118007026038023067027028038050048024055063123058022055036108028004037014018058028058002069030025040032033040018045046004011018011055028001059061061039')\n",
            "('055100029032045032008021037006009004011048011003123061037049024117061027004040093054049054000026051005068039053003000033044048032001038012085005063057014000015017043057001050040034014049032009090121030012036045085037026035004027019014062048042033004123014008099059057072058035026075113016051059014057061061039', '055100029032045032008021037006009004011048025049004061036039040050043053065012039015015006062023037092028005038061086003014016046035010046023071036028021035016058035008106057029023005016017010015021001029091031047063039116100090050014062101037062093127026015014054044086124111037020026040053025040057061061039', '055100029032045032008021037006009004011048028034018072026004002033046063031043042044038039035000031061036070066005021028042098058038001047042017016027050092011005017034097033071017044076021023093009036008063014088060055040013095003038028026016041028120083010013101013049039013031019009014047012025031061061039', '055100029032045032008021037006009004011048037015039038079063020013002027046040051113053052011004008000048036064012056019008063020003061034000076002020086028053036052052059036052001056043055124093041026041036045094067046045019093011121019097012076071058030048054025042001033031040060032048036030004041061061039')\n",
            "('058125004039038044007036022049026027029035120022003015060016030004127046025021000050029125050028119080006004115028063126011051050065023028085025004024066029114042033096034080044063010011079035021031023048018034039101036000075034015017042016076016097030084049106036036029009056036042100032030066023023061061039', '058125004039038044007036022049026027029035053028025004061037019061038030046051039054014003007048005086032026012030079009036057060052030126023010018051056030038094053012052036122039029055026017056049044042056010098102081063066062092026026015027046027061036041096125016045001061025032043009042031036023061061039', '058125004039038044007036022049026027029035037025009061090052051028003052034050091032026008039060016041063007053043009017055058024066059113091015034037003042124035098058080058014072112032085030024050017043111046029036054044055015047049036122029013126035043041030026112091058062006127019020009049051049061061039', '058125004039038044007036022049026027029035011028000094056014013121028085062018084116047041037092046005054020044056059012032056122030035019010028060033063059001056097058015049007037003123044025059044046014039034003061003019039064055037009038002000024076037077060042127032120007020061010041006004096033061061039')\n"
          ]
        }
      ]
    },
    {
      "cell_type": "markdown",
      "metadata": {
        "id": "MhumCRJTTC8s"
      },
      "source": [
        "# **PART 2 : Making Query from MySQL**"
      ]
    },
    {
      "cell_type": "code",
      "metadata": {
        "colab": {
          "base_uri": "https://localhost:8080/"
        },
        "id": "ACkuo-6zTJAr",
        "outputId": "b20b967a-d28f-4fb0-e2f1-c5fd83d5048b"
      },
      "source": [
        "\n",
        "# Get from result of store_data \n",
        "key1=b'yER6V-sJWXVFfkAi6aPDKogoE_qep31ovb8dgL9YD0M='\n",
        "EncPrimary_key=\"b'gAAAAABicXsxkeRW5hWiQp77_M0aT3r0j9Rwks4dDPJoQZ_-_ZVe-qvGnlfE26gnDBlcWHLSrX0e9BEjQX-bPF0OoZzJV_N6sQ=='\"\n",
        "fernet1=Fernet(key1)\n",
        "# Get from Blockchain\n",
        "encSalt = \"b'gAAAAABicXsxeIZcYBBJWFMI82ATTsbdMq96Rc36QIlFHbjiRVr0xzZNOnjbOmlRbl2YilZwKTvjM6zKftIqTH-52WzKFaMAH_Id_1K77NSCBtPpNYc2gDVq-T5Mn9xqqaSWMyV0EK2-DwyRsZMqhMcAuBea3_vpsgU81keay2mqg_yE5yaaHi4gRZOnR9cf5EnV-eFxSUBhuR9lv-ZCJLXBHfchUhX_1A=='\"\n",
        "salt_temp1=encSalt[1:len(encSalt)]\n",
        "salt_str= fernet1.decrypt(salt_temp1.encode('utf-8')).decode()\n",
        "\n",
        "Idd=(XOR1(salt_str,EncPrimary_key), )\n",
        "\n",
        "query = \"SELECT name from customers where id= %s\"\n",
        "mycursor.execute(query,Idd)\n",
        "res=\"\"\n",
        "for x in mycursor:\n",
        "  res=x\n",
        "\n",
        "Encrypted_res=XOR1(convert(res[0]),salt_str)\n",
        "\n",
        "temp=convert(Encrypted_res)\n",
        "print(temp)\n",
        "s1=temp[1:len(temp)]\n",
        "decMessage = fernet1.decrypt(s1.encode('utf-8')).decode()\n",
        "\n",
        "print(\"\\n\\nDecrypted string: \", decMessage)"
      ],
      "execution_count": 84,
      "outputs": [
        {
          "output_type": "stream",
          "name": "stdout",
          "text": [
            "b'gAAAAABicXsxCUmaE3Awv3s2INz4OcMfEoLnT0aYB34sl_s7mcDDS-Fk6hPgKe7mMUPpLK6cbmSL2-oWeQZdkWncts1HtrX8CA=='\n",
            "\n",
            "\n",
            "Decrypted string:  Ritwiz\n"
          ]
        }
      ]
    }
  ]
}